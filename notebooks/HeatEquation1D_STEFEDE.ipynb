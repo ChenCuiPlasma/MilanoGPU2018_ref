{
 "cells": [
  {
   "cell_type": "code",
   "execution_count": 1,
   "metadata": {},
   "outputs": [],
   "source": [
    "%matplotlib inline\n",
    "\n",
    "from matplotlib import pyplot as plt\n",
    "import numpy as np\n",
    "from Timer import Timer\n",
    "import IPythonMagic \n",
    "\n",
    "import pytest\n",
    "from ipytest import clean_tests, run_pytest\n",
    "\n",
    "import pycuda.compiler as cuda_compiler\n",
    "import pycuda.driver as cuda_driver\n",
    "from pycuda.gpuarray import GPUArray"
   ]
  },
  {
   "cell_type": "code",
   "execution_count": 2,
   "metadata": {},
   "outputs": [
    {
     "name": "stderr",
     "output_type": "stream",
     "text": [
      "Python version 3.6.6 (default, Sep 12 2018, 18:26:19) \n",
      "[GCC 8.0.1 20180414 (experimental) [trunk revision 259383]]\n",
      "Registering context in user workspace\n",
      "Creating context\n",
      "PyCUDA version 2018.1.1\n",
      "CUDA version (9, 1, 0)\n",
      "Driver version 10000\n",
      "Using 'Tesla K80' GPU\n",
      " => compute capability: (3, 7)\n",
      " => memory: 10447 / 11441 MB available\n",
      "Created context handle <46699728>\n",
      "Using CUDA cache dir /home/ubuntu/jupyter_notebooks/Stefano_B/MilanoGPU2018/TMP/MilanoGPU2018/notebooks/cuda_cache\n"
     ]
    }
   ],
   "source": [
    "# These come from the IPythonMagic module\n",
    "%setup_logging\n",
    "%cuda_context_handler context"
   ]
  },
  {
   "cell_type": "code",
   "execution_count": 3,
   "metadata": {},
   "outputs": [],
   "source": [
    "# We createa a HeatEquation1D class, since the kernel will be somehow more complex than before\n",
    "class HeatEquation1D(object):\n",
    "    \"\"\"\n",
    "    The class approximates the solution of the heat equation\n",
    "    \"\"\"\n",
    "    \n",
    "    # In Python all methods are static unless you start with an argument \"self\".\n",
    "    # __init__ is the constructor\n",
    "    def __init__(self, u0, kappa, dx, dt):\n",
    "        # This would create a pointer. It's dangerous. Let's make a copy so we don't \n",
    "        # mess up with values out of the class\n",
    "        #self.u0    = u0\n",
    "        #self.kappa = kappa\n",
    "        #self.dx    = dx\n",
    "        #self.dt    = dt\n",
    "        \n",
    "        self.u0    = u0.copy()\n",
    "        self.u1    = np.empty_like(self.u0) # this does not initialize. It should be fast!\n",
    "        self.kappa = kappa\n",
    "        self.dx    = dx\n",
    "        self.dt    = dt\n",
    "        self.nx    = self.u0.shape[0] - 2 # points minus the boundaries points\n",
    "        \n",
    "    # Create a step function that evolves the system in time\n",
    "    def step(self):\n",
    "        for i in range(1,self.nx+1):\n",
    "            self.u1[i] = self.u0[i] + kappa*dt/(dx**2) * (self.u0[i-1] - 2.0*self.u0[i] + self.u0[i+1])\n",
    "            \n",
    "        self.u1[0] = self.u1[1]\n",
    "        self.u1[self.nx+1] = self.u1[self.nx]\n",
    "        \n",
    "        # swap u1 and u0\n",
    "        # after the test is complete, u0 is the most recent result\n",
    "        self.u0, self.u1 = self.u1, self.u0\n",
    "        \n",
    "    def download(self): # we will use this functionality with the GPU\n",
    "        return self.u0.copy()\n",
    "        "
   ]
  },
  {
   "cell_type": "code",
   "execution_count": 22,
   "metadata": {},
   "outputs": [],
   "source": [
    "# We createa a HeatEquation1D class, since the kernel will be somehow more complex than before\n",
    "class HeatEquation1DGPU(object):\n",
    "    \"\"\"\n",
    "    The class approximates the solution of the heat equation on the GPU\n",
    "    \"\"\"\n",
    "    \n",
    "    # In Python all methods are static unless you start with an argument \"self\".\n",
    "    # __init__ is the constructor\n",
    "    def __init__(self):\n",
    "        pass\n",
    "    \n",
    "    def createKernel(self):\n",
    "        src = \"\"\"\n",
    "        __global__ void heatEquation(float* u1, const float* u0, float kappa, float dx, float dt, int nx){\n",
    "            // Note: Skip the first ghost cell (put a \"+ 1\")\n",
    "            int i = blockIdx.x*blockDim.x + threadIdx.x + 1;\n",
    "            \n",
    "            if (i >= 1 && i <= nx){\n",
    "                // Hey note the \"2.0f\"!!! without the f I'm calling for a double precision multiplication!!! EXPENSIVE!\n",
    "                u1[i] = u0[i] + kappa*dt/(dx*dx)*(u0[i-1] - 2.0f*u0[i] + u0[i+1]); \n",
    "            }\n",
    "            \n",
    "            // This handles the left boundary\n",
    "            if (i == 1) {\n",
    "                u1[0] = u0[i] + kappa*dt/(dx*dx)*(u0[i-1] - 2.0f*u0[i] + u0[i+1]); \n",
    "            }\n",
    "            \n",
    "            // This handles the right boundary\n",
    "            if (i == nx) {\n",
    "                u1[nx+1] = u0[i] + kappa*dt/(dx*dx)*(u0[i-1] - 2.0f*u0[i] + u0[i+1]); \n",
    "            }\n",
    "        }\n",
    "        \n",
    "        __device__ int computePi() {\n",
    "            return 22.0/7.0;\n",
    "        }\n",
    "        \"\"\"\n",
    "    \n",
    "        # Now let's compile the source code, \"src\"\n",
    "        self.module = cuda_compiler.SourceModule(src,options=['--use_fast_math'])\n",
    "        self.kernel = self.module.get_function(\"heatEquation\")\n",
    "        # we have to prepare a call... since we want to run it fast (!)\n",
    "        self.kernel.prepare(\"PPfffi\") # pass the types. \n",
    "    \n",
    "    # We prefer to move initialization out of the constructor.. just because of errors..\n",
    "    def initialize(self, u0, kappa, dx, dt):\n",
    "        self.kappa = np.float32(kappa)\n",
    "        self.dx    = np.float32(dx)\n",
    "        self.dt    = np.float32(dt)\n",
    "        self.nx    = np.int32(u0.shape[0] - 2) # points minus the boundaries points\n",
    "        \n",
    "        # Allocate data on the GPU and upload\n",
    "        assert u0.dtype == np.float32, \"u0 MUST be float\"\n",
    "        self.u0_g = GPUArray(u0.shape, u0.dtype)\n",
    "        self.u1_g = GPUArray(u0.shape, u0.dtype)\n",
    "        self.u0_g.set(u0)\n",
    "        \n",
    "        # Create the kernel\n",
    "        self.createKernel()\n",
    "        \n",
    "        num_threads = 128\n",
    "        self.block_size = (num_threads, 1, 1)\n",
    "        self.grid_size = (int(np.ceil(self.u0_g.shape[0]/num_threads)), 1, 1)\n",
    "        self.stream = cuda_driver.Stream()\n",
    "        \n",
    "        print(self.block_size)\n",
    "        print(self.grid_size)\n",
    "        print(self.u0_g.shape)\n",
    "        \n",
    "    # Create a step function that evolves the system in time\n",
    "    def step(self):\n",
    "        \n",
    "        # Step: we wish to run using our kernel\n",
    "        self.kernel.prepared_async_call(self.grid_size, self.block_size, self.stream, \\\n",
    "                                        self.u1_g.gpudata, self.u0_g.gpudata, self.kappa, self.dx, self.dt, self.nx)\n",
    "\n",
    "        # swap u1 and u0\n",
    "        # after the test is complete, u0 is the most recent result\n",
    "        # THIS DOES NOT MOVE ANY DATA!!! JUST SWAPS THE POINTERS!!!!\n",
    "        self.u0_g, self.u1_g = self.u1_g, self.u0_g\n",
    "\n",
    "        #for i in range(1,self.nx+1):\n",
    "        #    self.u1[i] = self.u0[i] + kappa*dt/(dx**2) * (self.u0[i-1] - 2.0*self.u0[i] + self.u0[i+1])\n",
    "        #    \n",
    "        #self.u1[0] = self.u1[1]\n",
    "        #self.u1[self.nx+1] = self.u1[self.nx]\n",
    "        \n",
    "        \n",
    "    def download(self): # we will use this functionality with the GPU\n",
    "        u0 = np.empty(self.u0_g.shape, self.u0_g.dtype)\n",
    "        self.u0_g.get(u0)\n",
    "        return u0"
   ]
  },
  {
   "cell_type": "code",
   "execution_count": 23,
   "metadata": {},
   "outputs": [
    {
     "name": "stdout",
     "output_type": "stream",
     "text": [
      "(128, 1, 1)\n",
      "(1, 1, 1)\n",
      "(5,)\n",
      "[0.2 0.2 0.6 0.2 0.2]\n"
     ]
    }
   ],
   "source": [
    "u0    = np.zeros(5, dtype=np.float32)\n",
    "u0[2] = 1.0\n",
    "\n",
    "kappa = 1.0\n",
    "dx    = 1.0\n",
    "CFL   = 0.4\n",
    "dt    = CFL*dx**2/(2*kappa) # careful: \"/\" in python2 does integer division if it can\n",
    "\n",
    "gpu_simulator = HeatEquation1DGPU()        \n",
    "gpu_simulator.initialize(u0, kappa, dx, dt)\n",
    "\n",
    "gpu_simulator.step()\n",
    "result = gpu_simulator.download()\n",
    "print(result)\n",
    "#fig = plt.figure()\n",
    "#for i in range(10):\n",
    "#    simulator.step()\n",
    "#    result = simulator.download()\n",
    "#    print(result)\n",
    "#    plt.plot(u0)\n",
    "#    plt.show()\n",
    "    "
   ]
  },
  {
   "cell_type": "code",
   "execution_count": 24,
   "metadata": {},
   "outputs": [
    {
     "name": "stdout",
     "output_type": "stream",
     "text": [
      "[0.  0.  0.2 0.6 0.2 0.  0.  0.  0.  0.  0.  0.  0.  0.  0.  0.  0. ]\n",
      "[0.04 0.04 0.24 0.44 0.24 0.04 0.   0.   0.   0.   0.   0.   0.   0.\n",
      " 0.   0.   0.  ]\n"
     ]
    },
    {
     "data": {
      "image/png": "[encoded data removed]",
      "text/plain": [
       "<matplotlib.figure.Figure at 0x7f4ea04c3588>"
      ]
     },
     "metadata": {
      "needs_background": "light"
     },
     "output_type": "display_data"
    },
    {
     "name": "stdout",
     "output_type": "stream",
     "text": [
      "[0.08  0.08  0.24  0.36  0.24  0.072 0.008 0.    0.    0.    0.    0.\n",
      " 0.    0.    0.    0.    0.   ]\n"
     ]
    },
    {
     "data": {
      "image/png": "[encoded data removed]",
      "text/plain": [
       "<matplotlib.figure.Figure at 0x7f4ea0432438>"
      ]
     },
     "metadata": {
      "needs_background": "light"
     },
     "output_type": "display_data"
    },
    {
     "name": "stdout",
     "output_type": "stream",
     "text": [
      "[0.112  0.112  0.232  0.312  0.2304 0.0928 0.0192 0.0016 0.     0.\n",
      " 0.     0.     0.     0.     0.     0.     0.    ]\n"
     ]
    },
    {
     "data": {
      "image/png": "[encoded data removed]",
      "text/plain": [
       "<matplotlib.figure.Figure at 0x7f4ea3bc50f0>"
      ]
     },
     "metadata": {
      "needs_background": "light"
     },
     "output_type": "display_data"
    },
    {
     "name": "stdout",
     "output_type": "stream",
     "text": [
      "[0.136   0.136   0.224   0.27968 0.2192  0.1056  0.0304  0.0048  0.00032\n",
      " 0.      0.      0.      0.      0.      0.      0.      0.     ]\n"
     ]
    },
    {
     "data": {
      "image/png": "[encoded data removed]",
      "text/plain": [
       "<matplotlib.figure.Figure at 0x7f4ea0630d30>"
      ]
     },
     "metadata": {
      "needs_background": "light"
     },
     "output_type": "display_data"
    },
    {
     "name": "stdout",
     "output_type": "stream",
     "text": [
      "[1.53600e-01 1.53600e-01 2.17536e-01 2.56448e-01 2.08576e-01 1.13280e-01\n",
      " 4.03200e-02 9.02400e-03 1.15200e-03 6.40000e-05 0.00000e+00 0.00000e+00\n",
      " 0.00000e+00 0.00000e+00 0.00000e+00 0.00000e+00 0.00000e+00]\n"
     ]
    },
    {
     "data": {
      "image/png": "[encoded data removed]",
      "text/plain": [
       "<matplotlib.figure.Figure at 0x7f4ea2896208>"
      ]
     },
     "metadata": {
      "needs_background": "light"
     },
     "output_type": "display_data"
    },
    {
     "name": "stdout",
     "output_type": "stream",
     "text": [
      "[1.663872e-01 1.663872e-01 2.125312e-01 2.390912e-01 1.990912e-01\n",
      " 1.177472e-01 4.865280e-02 1.370880e-02 2.508800e-03 2.688000e-04\n",
      " 1.280000e-05 0.000000e+00 0.000000e+00 0.000000e+00 0.000000e+00\n",
      " 0.000000e+00 0.000000e+00]\n"
     ]
    },
    {
     "data": {
      "image/png": "[encoded data removed]",
      "text/plain": [
       "<matplotlib.figure.Figure at 0x7f4ea0537828>"
      ]
     },
     "metadata": {
      "needs_background": "light"
     },
     "output_type": "display_data"
    },
    {
     "name": "stdout",
     "output_type": "stream",
     "text": [
      "[1.7561600e-01 1.7561600e-01 2.0861440e-01 2.2577920e-01 1.9082240e-01\n",
      " 1.2019712e-01 5.5482880e-02 1.8457600e-02 4.3008000e-03 6.6560000e-04\n",
      " 6.1440000e-05 2.5600000e-06 0.0000000e+00 0.0000000e+00 0.0000000e+00\n",
      " 0.0000000e+00 0.0000000e+00]\n"
     ]
    },
    {
     "data": {
      "image/png": "[encoded data removed]",
      "text/plain": [
       "<matplotlib.figure.Figure at 0x7f4ea0577390>"
      ]
     },
     "metadata": {
      "needs_background": "light"
     },
     "output_type": "display_data"
    },
    {
     "name": "stdout",
     "output_type": "stream",
     "text": [
      "[1.82215680e-01 1.82215680e-01 2.05447680e-01 2.15354880e-01\n",
      " 1.83688704e-01 1.21379328e-01 6.10206720e-02 2.30312960e-02\n",
      " 6.40512000e-03 1.27180800e-03 1.70496000e-04 1.38240000e-05\n",
      " 5.12000000e-07 0.00000000e+00 0.00000000e+00 0.00000000e+00\n",
      " 0.00000000e+00]\n"
     ]
    },
    {
     "data": {
      "image/png": "[encoded data removed]",
      "text/plain": [
       "<matplotlib.figure.Figure at 0x7f4ea0725390>"
      ]
     },
     "metadata": {
      "needs_background": "light"
     },
     "output_type": "display_data"
    },
    {
     "name": "stdout",
     "output_type": "stream",
     "text": [
      "[1.86862080e-01 1.86862080e-01 2.02782720e-01 2.07040205e-01\n",
      " 1.77560064e-01 1.21769472e-01 6.54945280e-02 2.73039360e-02\n",
      " 8.70369280e-03 2.07820800e-03 3.59424000e-04 4.24960000e-05\n",
      " 3.07200000e-06 1.02400000e-07 0.00000000e+00 0.00000000e+00\n",
      " 0.00000000e+00]\n"
     ]
    },
    {
     "data": {
      "image/png": "[encoded data removed]",
      "text/plain": [
       "<matplotlib.figure.Figure at 0x7f4ea06d9908>"
      ]
     },
     "metadata": {
      "needs_background": "light"
     },
     "output_type": "display_data"
    },
    {
     "name": "stdout",
     "output_type": "stream",
     "text": [
      "[1.90046208e-01 1.90046208e-01 2.00450089e-01 2.00292680e-01\n",
      " 1.72297974e-01 1.21672602e-01 6.91113984e-02 3.12220058e-02\n",
      " 1.10986445e-02 3.05954816e-03 6.39795200e-04 9.79968000e-05\n",
      " 1.03628800e-05 6.75840000e-07 2.04800000e-08 0.00000000e+00\n",
      " 0.00000000e+00]\n"
     ]
    },
    {
     "data": {
      "image/png": "[encoded data removed]",
      "text/plain": [
       "<matplotlib.figure.Figure at 0x7f4ea07bb550>"
      ]
     },
     "metadata": {
      "needs_background": "light"
     },
     "output_type": "display_data"
    }
   ],
   "source": [
    "u0    = np.zeros(17)\n",
    "u0[3] = 1.0\n",
    "\n",
    "kappa = 1.0\n",
    "dx    = 1.0\n",
    "CFL   = 0.4\n",
    "dt    = CFL*dx**2/(2*kappa) # careful: \"/\" in python2 does integer division if it can\n",
    "\n",
    "simulator = HeatEquation1D(u0, kappa, dx, dt)        \n",
    "simulator.step()\n",
    "\n",
    "result = simulator.download()\n",
    "print(result)\n",
    "\n",
    "fig = plt.figure()\n",
    "for i in range(10):\n",
    "    simulator.step()\n",
    "    result = simulator.download()\n",
    "    print(result)\n",
    "    plt.plot(u0)\n",
    "    plt.show()\n",
    "    "
   ]
  },
  {
   "cell_type": "code",
   "execution_count": 12,
   "metadata": {},
   "outputs": [
    {
     "name": "stdout",
     "output_type": "stream",
     "text": [
      "============================= test session starts ==============================\n",
      "platform linux -- Python 3.6.6, pytest-3.8.2, py-1.6.0, pluggy-0.7.1 -- /usr/bin/python3\n",
      "cachedir: .pytest_cache\n",
      "rootdir: /home/ubuntu/jupyter_notebooks/Stefano_B/MilanoGPU2018/TMP/MilanoGPU2018/notebooks, inifile:\n",
      "collecting ... collected 1 item\n",
      "\n",
      "HeatEquation1D_STEFEDE.py::test_HeatEquation1D <- <ipython-input-12-00182be1a748> PASSED [100%]\n",
      "\n",
      "=========================== 1 passed in 0.03 seconds ===========================\n"
     ]
    },
    {
     "data": {
      "text/plain": [
       "0"
      ]
     },
     "execution_count": 12,
     "metadata": {},
     "output_type": "execute_result"
    }
   ],
   "source": [
    "clean_tests()\n",
    "\n",
    "def test_HeatEquation1D():\n",
    "    u0    = np.zeros(15)\n",
    "    kappa = 1.0\n",
    "    dx    = 1.0\n",
    "    CFL   = 0.4\n",
    "    dt    = CFL*dx**2/(2*kappa) # careful: \"/\" in python2 does integer division if it can\n",
    "\n",
    "    simulator = HeatEquation1D(u0, kappa, dx, dt)\n",
    "    \n",
    "    assert np.all(u0 == simulator.u0)\n",
    "    assert simulator.u0.shape == simulator.u1.shape\n",
    "    assert kappa == simulator.kappa\n",
    "    assert dx == simulator.dx\n",
    "    assert dt == simulator.dt\n",
    "\n",
    "    u0    = np.zeros(15)\n",
    "    u0[3] = 1.0\n",
    "    kappa = 1.0\n",
    "    dx    = 1.0\n",
    "    CFL   = 0.4\n",
    "    dt    = CFL*dx**2/(2*kappa) # careful: \"/\" in python2 does integer division if it can\n",
    "\n",
    "    simulator = HeatEquation1D(u0, kappa, dx, dt)\n",
    "    \n",
    "    for i in range(10):\n",
    "        simulator.step()\n",
    "        result = simulator.download()\n",
    "        print(result)\n",
    "        assert np.sum(result[1:-1]) == pytest.approx(1.0)\n",
    "        assert result[0] == result[1]\n",
    "        assert result[u0.shape[0]-1] == result[u0.shape[0]-2]\n",
    "        \n",
    "        \n",
    "run_pytest(filename='HeatEquation1D_STEFEDE.ipynb', pytest_options=['-vvv'])"
   ]
  },
  {
   "cell_type": "code",
   "execution_count": null,
   "metadata": {},
   "outputs": [],
   "source": []
  }
 ],
 "metadata": {
  "kernelspec": {
   "display_name": "Python 3",
   "language": "python",
   "name": "python3"
  },
  "language_info": {
   "codemirror_mode": {
    "name": "ipython",
    "version": 3
   },
   "file_extension": ".py",
   "mimetype": "text/x-python",
   "name": "python",
   "nbconvert_exporter": "python",
   "pygments_lexer": "ipython3",
   "version": "3.6.6"
  }
 },
 "nbformat": 4,
 "nbformat_minor": 2
}
